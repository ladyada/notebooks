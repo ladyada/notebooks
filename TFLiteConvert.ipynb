{
  "nbformat": 4,
  "nbformat_minor": 0,
  "metadata": {
    "colab": {
      "name": "TFLiteConvert.ipynb",
      "provenance": [],
      "private_outputs": true,
      "collapsed_sections": [],
      "include_colab_link": true
    },
    "kernelspec": {
      "name": "python3",
      "display_name": "Python 3"
    },
    "accelerator": "GPU"
  },
  "cells": [
    {
      "cell_type": "markdown",
      "metadata": {
        "id": "view-in-github",
        "colab_type": "text"
      },
      "source": [
        "<a href=\"https://colab.research.google.com/github/ladyada/notebooks/blob/master/TFLiteConvert.ipynb\" target=\"_parent\"><img src=\"https://colab.research.google.com/assets/colab-badge.svg\" alt=\"Open In Colab\"/></a>"
      ]
    },
    {
      "cell_type": "markdown",
      "metadata": {
        "id": "JzH4N8ac6i4E",
        "colab_type": "text"
      },
      "source": [
        "**1.) Install Bazel**\n"
      ]
    },
    {
      "cell_type": "code",
      "metadata": {
        "id": "gN17hTjKg5VW",
        "colab_type": "code",
        "colab": {}
      },
      "source": [
        "BAZEL_VERSION = '0.20.0'\n",
        "!wget https://github.com/bazelbuild/bazel/releases/download/{BAZEL_VERSION}/bazel-{BAZEL_VERSION}-installer-linux-x86_64.sh\n",
        "!chmod +x bazel-{BAZEL_VERSION}-installer-linux-x86_64.sh\n",
        "!./bazel-{BAZEL_VERSION}-installer-linux-x86_64.sh\n",
        "!bazel"
      ],
      "execution_count": 0,
      "outputs": []
    },
    {
      "cell_type": "markdown",
      "metadata": {
        "id": "-HmX38fVkNb-",
        "colab_type": "text"
      },
      "source": [
        "**2) Install Object Detection Model & SSDLite**"
      ]
    },
    {
      "cell_type": "code",
      "metadata": {
        "id": "b7kqJmH-hX07",
        "colab_type": "code",
        "colab": {}
      },
      "source": [
        "\n",
        "!git clone --depth=1 --recurse-submodules https://github.com/tensorflow/models.git\n",
        "!cd /content/models/research && protoc object_detection/protos/*.proto --python_out=.\n",
        "%cd /content/models/research/object_detection\n",
        "checkpoint_name = 'ssdlite_mobilenet_v2_coco_2018_05_09'\n",
        "!wget http://download.tensorflow.org/models/object_detection/{checkpoint_name}.tar.gz\n",
        "!tar -xzf {checkpoint_name}.tar.gz\n",
        "checkpoint = '{0}.ckpt'.format(checkpoint_name)\n",
        "print('Setup successful!')"
      ],
      "execution_count": 0,
      "outputs": []
    },
    {
      "cell_type": "markdown",
      "metadata": {
        "id": "q8KiHL0W6YCZ",
        "colab_type": "text"
      },
      "source": [
        "**3) Export TFLite graph**"
      ]
    },
    {
      "cell_type": "code",
      "metadata": {
        "id": "H5JNU1Esw7Sp",
        "colab_type": "code",
        "colab": {}
      },
      "source": [
        "import os\n",
        "os.environ['PYTHONPATH'] += \":/content/models/research/:/content/models/research/slim\"\n",
        "!pwd\n",
        "!ls -la\n",
        "!python export_tflite_ssd_graph.py \\\n",
        " --pipeline_config_path={checkpoint_name}/pipeline.config \\\n",
        " --trained_checkpoint_prefix={checkpoint_name}/model.ckpt \\\n",
        " --output_directory=/content/tmp \\\n",
        " --add_postprocessing_op=true\n"
      ],
      "execution_count": 0,
      "outputs": []
    },
    {
      "cell_type": "markdown",
      "metadata": {
        "id": "3YPTJWd36-y8",
        "colab_type": "text"
      },
      "source": [
        "**3.) Convert .pb model into TFLite .lite model**"
      ]
    },
    {
      "cell_type": "code",
      "metadata": {
        "id": "2ozkNAiQtNne",
        "colab_type": "code",
        "colab": {}
      },
      "source": [
        "%cd /content/models/\n",
        "!ls\n",
        "!bazel run -c opt //tensorflow/lite/toco:toco -- \\\n",
        "--input_file=/content/tmp/tflite_graph.pb \\\n",
        "--output_file=/content/tmp/detect.tflite \\\n",
        "--input_shapes=1,300,300,3 \\\n",
        "--input_arrays=normalized_input_image_tensor \\\n",
        "--output_arrays='TFLite_Detection_PostProcess','TFLite_Detection_PostProcess:1','TFLite_Detection_PostProcess:2','TFLite_Detection_PostProcess:3' \\\n",
        "--inference_type=FLOAT \\\n",
        "--allow_custom_ops"
      ],
      "execution_count": 0,
      "outputs": []
    },
    {
      "cell_type": "markdown",
      "metadata": {
        "id": "AsvSgErf8VO2",
        "colab_type": "text"
      },
      "source": [
        "**4.) download optimized .lite file to local machine**"
      ]
    },
    {
      "cell_type": "code",
      "metadata": {
        "id": "Nl5PwNcg0W4e",
        "colab_type": "code",
        "colab": {}
      },
      "source": [
        "files.download(tflite_file)"
      ],
      "execution_count": 0,
      "outputs": []
    }
  ]
}