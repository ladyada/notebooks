{
  "nbformat": 4,
  "nbformat_minor": 0,
  "metadata": {
    "colab": {
      "name": "TFLiteConvert.ipynb",
      "provenance": [],
      "private_outputs": true,
      "collapsed_sections": [],
      "include_colab_link": true
    },
    "kernelspec": {
      "name": "python3",
      "display_name": "Python 3"
    },
    "accelerator": "GPU"
  },
  "cells": [
    {
      "cell_type": "markdown",
      "metadata": {
        "id": "view-in-github",
        "colab_type": "text"
      },
      "source": [
        "<a href=\"https://colab.research.google.com/github/ladyada/notebooks/blob/master/TFLiteConvert.ipynb\" target=\"_parent\"><img src=\"https://colab.research.google.com/assets/colab-badge.svg\" alt=\"Open In Colab\"/></a>"
      ]
    },
    {
      "cell_type": "markdown",
      "metadata": {
        "id": "JzH4N8ac6i4E",
        "colab_type": "text"
      },
      "source": [
        "**1.) Upload model file from local machine to Google Colab**\n"
      ]
    },
    {
      "cell_type": "code",
      "metadata": {
        "id": "L8eQgibfpAy3",
        "colab_type": "code",
        "colab": {}
      },
      "source": [
        "from google.colab import files\n",
        "\n",
        "\n",
        "pbfile = files.upload()"
      ],
      "execution_count": 0,
      "outputs": []
    },
    {
      "cell_type": "markdown",
      "metadata": {
        "id": "q8KiHL0W6YCZ",
        "colab_type": "text"
      },
      "source": [
        "**2.) List uploaded model file**"
      ]
    },
    {
      "cell_type": "code",
      "metadata": {
        "id": "H5JNU1Esw7Sp",
        "colab_type": "code",
        "colab": {}
      },
      "source": [
        "!ls -la\n"
      ],
      "execution_count": 0,
      "outputs": []
    },
    {
      "cell_type": "markdown",
      "metadata": {
        "id": "3YPTJWd36-y8",
        "colab_type": "text"
      },
      "source": [
        "**3.) Convert .pb model into TFLite .lite model**"
      ]
    },
    {
      "cell_type": "code",
      "metadata": {
        "id": "2ozkNAiQtNne",
        "colab_type": "code",
        "colab": {}
      },
      "source": [
        "import tensorflow as tf\n",
        "\n",
        "localpb = 'retrained_graph_eyes1za.pb'\n",
        "tflite_file = 'retrained_graph_eyes1za.lite'\n",
        "\n",
        "print(\"{} -> {}\".format(localpb, tflite_file))\n",
        "\n",
        "converter = tf.lite.TFLiteConverter.from_frozen_graph(\n",
        "    localpb, \n",
        "    ['input'], \n",
        "    ['final_result']\n",
        ")\n",
        "\n",
        "tflite_model = converter.convert()\n",
        "\n",
        "open(tflite_file,'wb').write(tflite_model)\n",
        "\n",
        "interpreter = tf.lite.Interpreter(model_content=tflite_model)\n",
        "interpreter.allocate_tensors()"
      ],
      "execution_count": 0,
      "outputs": []
    },
    {
      "cell_type": "markdown",
      "metadata": {
        "id": "AsvSgErf8VO2",
        "colab_type": "text"
      },
      "source": [
        "**4.) download optimized .lite file to local machine**"
      ]
    },
    {
      "cell_type": "code",
      "metadata": {
        "id": "Nl5PwNcg0W4e",
        "colab_type": "code",
        "colab": {}
      },
      "source": [
        "files.download(tflite_file)"
      ],
      "execution_count": 0,
      "outputs": []
    }
  ]
}